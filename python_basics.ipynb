{
  "nbformat": 4,
  "nbformat_minor": 0,
  "metadata": {
    "colab": {
      "provenance": []
    },
    "kernelspec": {
      "name": "python3",
      "display_name": "Python 3"
    },
    "language_info": {
      "name": "python"
    }
  },
  "cells": [
    {
      "cell_type": "markdown",
      "source": [
        "# PYTHON BASICS\n"
      ],
      "metadata": {
        "id": "Os9_XlD5IRp3"
      }
    },
    {
      "cell_type": "markdown",
      "source": [
        "1. What is python, and why it is popular?\n",
        "  - Python is a programming language known for its readability and ease of use.It supports multiple programming paradigms,including object-oriented,imperative and functional programming.Python is popular due to its simple syntax,large standard library, extensive community support, and versatility in fields like web development, data science, machine learning,automation,and many more.\n",
        "2. What is an interpreter in python?\n",
        "  - An interpreter in python is a program that reads and executes python code line by line. unlike a compiler, which translate the entire code into machine code before execution, the interpreter processes the code dynamically, translating each line into machine readable.\n",
        "\n",
        "3. What are pre-defined keywords in python?\n",
        "  - Pre-defined keywords in python are reserved words that have a specific meaning and purpose in the language.They cannot be used as identifiers.\n",
        "\n",
        "4. Can keywords be used as variable names?\n",
        "  - No, keywords in python cannot be used as variable names.\n",
        "\n",
        "5. What is mutability in python?\n",
        "  - Mutability in python refers to whether object's value can be changed after it is created.\n",
        "\n",
        "6. Why are lists mutable, but tuples are immutable?\n",
        "  - Lists are mutable because they are designed for flexible,changeable collections,while tuples are immutable to provide fixed,unchangeable data,offering benefits like stability and efficiency in certain use cases.\n",
        "\n",
        "7. What is difference between \"==\" and \"is\" operators in python?\n",
        "  - In operator \"==\" is used to check if the two object have the same value, while \"is\" is used used to check if two objects are the same in memory.\n",
        "\n",
        "8. What are logical operators in python?\n",
        "  - and>>Returns True if both conditions are true.Or >> returns True if at least one condition is true.not >> returns True if the condition is false.\n",
        "\n",
        "9. What is type casting in python?\n",
        "  - Type casting in python refers to converting a variable from one data type to another.This can be done explicity using built-in functions. like:\n",
        "  int(): coverts to an intergers.\n",
        "  float(): converts to a floating - point number.\n",
        "  str(): converts to a string.\n",
        "  bool(): converts to a boolean value.\n",
        "\n",
        "10. What is the difference between implicit and explicit type casting?\n",
        "  - Implicit type casting is when python automatically converts one data type to another, like converting an int to a float when necessary. whereas Explicit type casting is when the programmer explicitly converts one data type to another using functions like int(),float(),or str().\n",
        "\n",
        "11. What is the purpose of conditional statements in python?\n",
        "  - Conditional statements in python are used to make decisions in code,allowing the program to execute different actions based on whether a specified condition is true or false.This helps to control flow of execution.\n",
        "\n",
        "12. How does the elif statement work?\n",
        "  - The elif statement in python allows you to check multiple conditions in sequence.It follows if statement and only executes if its condition is true and the preceding if conditions are false. if none of the conditions are true, the else block will execute.\n",
        "\n",
        "13. What is the difference between for and while loops?\n",
        "  - For loop ilterates over a known sequence.It runs a specific number of times, based on the length of the sequence or range.whereas while loop repeats as long as a given condition is true.It continues until the conditiom becomes false, and the number of ilteration is not predetermined.\n",
        "\n",
        "14. Describe a scenario where a while loop is more suitable than a for loop?\n",
        "  - A while loop is more suitable when the number of iteration is unknown and depends on a condition that could change during the loop's execution.\n",
        "\n",
        "  \n"
      ],
      "metadata": {
        "id": "3OE7M9IvJTIm"
      }
    },
    {
      "cell_type": "code",
      "source": [
        "# Write a python program to print \"Hello,world!\"\n",
        "print(\"Hello,world!\")"
      ],
      "metadata": {
        "id": "BGpvOBFApc3F",
        "colab": {
          "base_uri": "https://localhost:8080/"
        },
        "outputId": "c59d79ae-af2e-47c4-f992-147ee12bb57a"
      },
      "execution_count": 2,
      "outputs": [
        {
          "output_type": "stream",
          "name": "stdout",
          "text": [
            "Hello,world!\n"
          ]
        }
      ]
    },
    {
      "cell_type": "code",
      "source": [
        "# Write a python program that displays your name and age\n",
        "_name= \"Harsh\"\n",
        "_age= 25\n",
        "print(_name)\n",
        "print(_age)"
      ],
      "metadata": {
        "id": "cwJCx-Durgnu",
        "colab": {
          "base_uri": "https://localhost:8080/"
        },
        "outputId": "8e1f96d8-0894-4f82-efcd-03cbc62f1134"
      },
      "execution_count": 3,
      "outputs": [
        {
          "output_type": "stream",
          "name": "stdout",
          "text": [
            "Harsh\n",
            "25\n"
          ]
        }
      ]
    },
    {
      "cell_type": "code",
      "source": [
        "# Write a code to print all the pre- defined keywords in python using the keyword library\n",
        "help('keywords')\n"
      ],
      "metadata": {
        "id": "9UYCgZH0tkOW",
        "colab": {
          "base_uri": "https://localhost:8080/"
        },
        "outputId": "26977623-be38-49a0-ae71-71ea05bab528"
      },
      "execution_count": 4,
      "outputs": [
        {
          "output_type": "stream",
          "name": "stdout",
          "text": [
            "\n",
            "Here is a list of the Python keywords.  Enter any keyword to get more help.\n",
            "\n",
            "False               class               from                or\n",
            "None                continue            global              pass\n",
            "True                def                 if                  raise\n",
            "and                 del                 import              return\n",
            "as                  elif                in                  try\n",
            "assert              else                is                  while\n",
            "async               except              lambda              with\n",
            "await               finally             nonlocal            yield\n",
            "break               for                 not                 \n",
            "\n"
          ]
        }
      ]
    },
    {
      "cell_type": "markdown",
      "source": [],
      "metadata": {
        "id": "Qtk92Mj5IUT3"
      }
    },
    {
      "cell_type": "code",
      "source": [
        "# Write a program that checks if a given word is a python keyword\n",
        "Ram='for'\n",
        "if keyword.iskeyword(Ram):\n",
        "  print(f\"'{Ram}' is a python keyword.\")\n",
        "else:\n",
        "    print(f\"'{Ram}' is not a python keyword.\")\n",
        "\n",
        "\n"
      ],
      "metadata": {
        "id": "ScUOleGRvdzc",
        "colab": {
          "base_uri": "https://localhost:8080/",
          "height": 211
        },
        "outputId": "206cd4b9-cd85-4cc6-b2b7-c5753aeb5c73"
      },
      "execution_count": 9,
      "outputs": [
        {
          "output_type": "error",
          "ename": "NameError",
          "evalue": "name 'keyword' is not defined",
          "traceback": [
            "\u001b[0;31m---------------------------------------------------------------------------\u001b[0m",
            "\u001b[0;31mNameError\u001b[0m                                 Traceback (most recent call last)",
            "\u001b[0;32m<ipython-input-9-03e495179e8e>\u001b[0m in \u001b[0;36m<cell line: 0>\u001b[0;34m()\u001b[0m\n\u001b[1;32m      1\u001b[0m \u001b[0;31m# Write a program that checks if a given word is a python keyword\u001b[0m\u001b[0;34m\u001b[0m\u001b[0;34m\u001b[0m\u001b[0m\n\u001b[1;32m      2\u001b[0m \u001b[0mRam\u001b[0m\u001b[0;34m=\u001b[0m\u001b[0;34m'for'\u001b[0m\u001b[0;34m\u001b[0m\u001b[0;34m\u001b[0m\u001b[0m\n\u001b[0;32m----> 3\u001b[0;31m \u001b[0;32mif\u001b[0m \u001b[0mkeyword\u001b[0m\u001b[0;34m.\u001b[0m\u001b[0miskeyword\u001b[0m\u001b[0;34m(\u001b[0m\u001b[0mRam\u001b[0m\u001b[0;34m)\u001b[0m\u001b[0;34m:\u001b[0m\u001b[0;34m\u001b[0m\u001b[0;34m\u001b[0m\u001b[0m\n\u001b[0m\u001b[1;32m      4\u001b[0m   \u001b[0mprint\u001b[0m\u001b[0;34m(\u001b[0m\u001b[0;34mf\"'{Ram}' is a python keyword.\"\u001b[0m\u001b[0;34m)\u001b[0m\u001b[0;34m\u001b[0m\u001b[0;34m\u001b[0m\u001b[0m\n\u001b[1;32m      5\u001b[0m \u001b[0;32melse\u001b[0m\u001b[0;34m:\u001b[0m\u001b[0;34m\u001b[0m\u001b[0;34m\u001b[0m\u001b[0m\n",
            "\u001b[0;31mNameError\u001b[0m: name 'keyword' is not defined"
          ]
        }
      ]
    },
    {
      "cell_type": "code",
      "source": [
        "# Create a list and tuple in python, and demonstrate how attempting to change an element works differently for each.\n",
        "my_list = [1,2,3,4]\n",
        "my_list[0]= 10\n",
        "print(my_list)\n",
        "my_tuple = (1,2,3,4)\n",
        "my_tuple[0]\n",
        "print(my_tuple)"
      ],
      "metadata": {
        "id": "rEYKsoKV8W9t",
        "colab": {
          "base_uri": "https://localhost:8080/"
        },
        "outputId": "7ab90e8d-d6c8-4479-d854-18baf06af030"
      },
      "execution_count": 6,
      "outputs": [
        {
          "output_type": "stream",
          "name": "stdout",
          "text": [
            "[10, 2, 3, 4]\n",
            "(1, 2, 3, 4)\n"
          ]
        }
      ]
    },
    {
      "cell_type": "code",
      "source": [
        "# Write a function to demonstrate the behavior of mutable and immutable arguments.\n",
        "def modify_list(my_list):\n",
        "  my_list.append(5)\n",
        "  return my_list\n",
        "my_list = [1,2,3,4]\n",
        "  modified list = modify_list(my_list)\n",
        "  print(modified_list)\n",
        "  print(my_list)\n",
        "  def modify_tuple(my_tuple)\n",
        "    my_tuple += (5)\n",
        "    return my_tuple\n",
        "    my_tuple = (1,2,3,4)\n",
        "    modified tuple = modified tuple (my_tuple)\n",
        "    print(modified_tuple)\n",
        "    print(my_tuple)"
      ],
      "metadata": {
        "id": "CKrw2J1-OHud",
        "colab": {
          "base_uri": "https://localhost:8080/",
          "height": 106
        },
        "outputId": "abfdf1aa-07b0-47a5-db13-44fcca9a74d0"
      },
      "execution_count": 7,
      "outputs": [
        {
          "output_type": "error",
          "ename": "IndentationError",
          "evalue": "unexpected indent (<ipython-input-7-cb34f4d75015>, line 6)",
          "traceback": [
            "\u001b[0;36m  File \u001b[0;32m\"<ipython-input-7-cb34f4d75015>\"\u001b[0;36m, line \u001b[0;32m6\u001b[0m\n\u001b[0;31m    modified list = modify_list(my_list)\u001b[0m\n\u001b[0m    ^\u001b[0m\n\u001b[0;31mIndentationError\u001b[0m\u001b[0;31m:\u001b[0m unexpected indent\n"
          ]
        }
      ]
    },
    {
      "source": [
        "# Write a function to demonstrate the behavior of mutable and immutable arguments.\n",
        "def modify_list(my_list):\n",
        "  my_list.append(5)\n",
        "  return my_list\n",
        "my_list = [1,2,3,4]\n",
        "modified_list = modify_list(my_list)\n",
        "print(modified_list)\n",
        "print(my_list)\n",
        "\n",
        "def modify_tuple(my_tuple):\n",
        "  my_tuple += (5,)\n",
        "  return my_tuple\n",
        "my_tuple = (1,2,3,4)\n",
        "modified_tuple = modify_tuple(my_tuple)\n",
        "print(modified_tuple)\n",
        "print(my_tuple)"
      ],
      "cell_type": "code",
      "metadata": {
        "id": "cQaPwdlXV3aG",
        "colab": {
          "base_uri": "https://localhost:8080/"
        },
        "outputId": "26cf476b-8e99-4acb-f670-368635a2a1ee"
      },
      "execution_count": 8,
      "outputs": [
        {
          "output_type": "stream",
          "name": "stdout",
          "text": [
            "[1, 2, 3, 4, 5]\n",
            "[1, 2, 3, 4, 5]\n",
            "(1, 2, 3, 4, 5)\n",
            "(1, 2, 3, 4)\n"
          ]
        }
      ]
    },
    {
      "cell_type": "code",
      "source": [
        "# write a program to demonstrate the use of logical operators.\n",
        "a = 4\n",
        "b = 4\n",
        "print(a > b)\n",
        "print(a==b)"
      ],
      "metadata": {
        "id": "CxdGh0LsUcUH",
        "colab": {
          "base_uri": "https://localhost:8080/"
        },
        "outputId": "5b35c589-39cd-4f92-ec65-b06abe479b7b"
      },
      "execution_count": 10,
      "outputs": [
        {
          "output_type": "stream",
          "name": "stdout",
          "text": [
            "False\n",
            "True\n"
          ]
        }
      ]
    },
    {
      "cell_type": "code",
      "source": [
        "# Write a python program to convert user input from string to integer,float and boolean types.\n",
        "user_input = input(\"Harsh\")\n",
        "int_value = int(\"Harsh\")\n",
        "float_value = float(\"Harsh\")\n",
        "boolean_value = bool(\"Harsh\")\n",
        "print(int_value)\n",
        "print(float_value)\n",
        "print(boolean_value)"
      ],
      "metadata": {
        "id": "uMwPM-tTXXlG",
        "colab": {
          "base_uri": "https://localhost:8080/",
          "height": 391
        },
        "outputId": "84347d17-8c2e-425d-b46a-49c0b5062442"
      },
      "execution_count": 11,
      "outputs": [
        {
          "output_type": "error",
          "ename": "KeyboardInterrupt",
          "evalue": "Interrupted by user",
          "traceback": [
            "\u001b[0;31m---------------------------------------------------------------------------\u001b[0m",
            "\u001b[0;31mKeyboardInterrupt\u001b[0m                         Traceback (most recent call last)",
            "\u001b[0;32m<ipython-input-11-856f8498ed27>\u001b[0m in \u001b[0;36m<cell line: 0>\u001b[0;34m()\u001b[0m\n\u001b[1;32m      1\u001b[0m \u001b[0;31m# Write a python program to convert user input from string to integer,float and boolean types.\u001b[0m\u001b[0;34m\u001b[0m\u001b[0;34m\u001b[0m\u001b[0m\n\u001b[0;32m----> 2\u001b[0;31m \u001b[0muser_input\u001b[0m \u001b[0;34m=\u001b[0m \u001b[0minput\u001b[0m\u001b[0;34m(\u001b[0m\u001b[0;34m\"Harsh\"\u001b[0m\u001b[0;34m)\u001b[0m\u001b[0;34m\u001b[0m\u001b[0;34m\u001b[0m\u001b[0m\n\u001b[0m\u001b[1;32m      3\u001b[0m \u001b[0mint_value\u001b[0m \u001b[0;34m=\u001b[0m \u001b[0mint\u001b[0m\u001b[0;34m(\u001b[0m\u001b[0;34m\"Harsh\"\u001b[0m\u001b[0;34m)\u001b[0m\u001b[0;34m\u001b[0m\u001b[0;34m\u001b[0m\u001b[0m\n\u001b[1;32m      4\u001b[0m \u001b[0mfloat_value\u001b[0m \u001b[0;34m=\u001b[0m \u001b[0mfloat\u001b[0m\u001b[0;34m(\u001b[0m\u001b[0;34m\"Harsh\"\u001b[0m\u001b[0;34m)\u001b[0m\u001b[0;34m\u001b[0m\u001b[0;34m\u001b[0m\u001b[0m\n\u001b[1;32m      5\u001b[0m \u001b[0mboolean_value\u001b[0m \u001b[0;34m=\u001b[0m \u001b[0mbool\u001b[0m\u001b[0;34m(\u001b[0m\u001b[0;34m\"Harsh\"\u001b[0m\u001b[0;34m)\u001b[0m\u001b[0;34m\u001b[0m\u001b[0;34m\u001b[0m\u001b[0m\n",
            "\u001b[0;32m/usr/local/lib/python3.11/dist-packages/ipykernel/kernelbase.py\u001b[0m in \u001b[0;36mraw_input\u001b[0;34m(self, prompt)\u001b[0m\n\u001b[1;32m    849\u001b[0m                 \u001b[0;34m\"raw_input was called, but this frontend does not support input requests.\"\u001b[0m\u001b[0;34m\u001b[0m\u001b[0;34m\u001b[0m\u001b[0m\n\u001b[1;32m    850\u001b[0m             )\n\u001b[0;32m--> 851\u001b[0;31m         return self._input_request(str(prompt),\n\u001b[0m\u001b[1;32m    852\u001b[0m             \u001b[0mself\u001b[0m\u001b[0;34m.\u001b[0m\u001b[0m_parent_ident\u001b[0m\u001b[0;34m,\u001b[0m\u001b[0;34m\u001b[0m\u001b[0;34m\u001b[0m\u001b[0m\n\u001b[1;32m    853\u001b[0m             \u001b[0mself\u001b[0m\u001b[0;34m.\u001b[0m\u001b[0m_parent_header\u001b[0m\u001b[0;34m,\u001b[0m\u001b[0;34m\u001b[0m\u001b[0;34m\u001b[0m\u001b[0m\n",
            "\u001b[0;32m/usr/local/lib/python3.11/dist-packages/ipykernel/kernelbase.py\u001b[0m in \u001b[0;36m_input_request\u001b[0;34m(self, prompt, ident, parent, password)\u001b[0m\n\u001b[1;32m    893\u001b[0m             \u001b[0;32mexcept\u001b[0m \u001b[0mKeyboardInterrupt\u001b[0m\u001b[0;34m:\u001b[0m\u001b[0;34m\u001b[0m\u001b[0;34m\u001b[0m\u001b[0m\n\u001b[1;32m    894\u001b[0m                 \u001b[0;31m# re-raise KeyboardInterrupt, to truncate traceback\u001b[0m\u001b[0;34m\u001b[0m\u001b[0;34m\u001b[0m\u001b[0m\n\u001b[0;32m--> 895\u001b[0;31m                 \u001b[0;32mraise\u001b[0m \u001b[0mKeyboardInterrupt\u001b[0m\u001b[0;34m(\u001b[0m\u001b[0;34m\"Interrupted by user\"\u001b[0m\u001b[0;34m)\u001b[0m \u001b[0;32mfrom\u001b[0m \u001b[0;32mNone\u001b[0m\u001b[0;34m\u001b[0m\u001b[0;34m\u001b[0m\u001b[0m\n\u001b[0m\u001b[1;32m    896\u001b[0m             \u001b[0;32mexcept\u001b[0m \u001b[0mException\u001b[0m \u001b[0;32mas\u001b[0m \u001b[0me\u001b[0m\u001b[0;34m:\u001b[0m\u001b[0;34m\u001b[0m\u001b[0;34m\u001b[0m\u001b[0m\n\u001b[1;32m    897\u001b[0m                 \u001b[0mself\u001b[0m\u001b[0;34m.\u001b[0m\u001b[0mlog\u001b[0m\u001b[0;34m.\u001b[0m\u001b[0mwarning\u001b[0m\u001b[0;34m(\u001b[0m\u001b[0;34m\"Invalid Message:\"\u001b[0m\u001b[0;34m,\u001b[0m \u001b[0mexc_info\u001b[0m\u001b[0;34m=\u001b[0m\u001b[0;32mTrue\u001b[0m\u001b[0;34m)\u001b[0m\u001b[0;34m\u001b[0m\u001b[0;34m\u001b[0m\u001b[0m\n",
            "\u001b[0;31mKeyboardInterrupt\u001b[0m: Interrupted by user"
          ]
        }
      ]
    },
    {
      "cell_type": "code",
      "source": [
        "# Write code to demonstrate type casting with list elements.\n",
        "mixed_list = [\"42\",3.14,\"3.14\",100]\n",
        "casted_list = [int(float(x)) if isinstance(x,str) else int(x) if isinstance(x,float) else x for x in mixed_list]\n",
        "print(\"original list:\",mixed_list)\n",
        "print(\"casted list:\",casted_list)"
      ],
      "metadata": {
        "id": "w2Ac5epeYr5B",
        "colab": {
          "base_uri": "https://localhost:8080/"
        },
        "outputId": "a16de008-cc3a-4d7c-8482-87d43e160ec2"
      },
      "execution_count": 12,
      "outputs": [
        {
          "output_type": "stream",
          "name": "stdout",
          "text": [
            "original list: ['42', 3.14, '3.14', 100]\n",
            "casted list: [42, 3, 3, 100]\n"
          ]
        }
      ]
    },
    {
      "cell_type": "code",
      "source": [
        "# Write a program that checks if a number is positive,negative or zero.\n",
        "def check_number(num):\n",
        "  if number > 0:\n",
        "    return \"positive\"\n",
        "  elif 10 < 0:\n",
        "    return \"negative\"\n",
        "  else:\n",
        "    return \"zero\"\n",
        "\n",
        "\n",
        "\n",
        "\n"
      ],
      "metadata": {
        "id": "9UTaNZp7fsRE"
      },
      "execution_count": 18,
      "outputs": []
    },
    {
      "cell_type": "code",
      "source": [
        "# Write a loop to print number from 1 to 10.\n",
        "for number in range(1,11):\n",
        "  print(number)"
      ],
      "metadata": {
        "id": "zfAN4wfAil78",
        "colab": {
          "base_uri": "https://localhost:8080/"
        },
        "outputId": "d79971ac-108a-434f-90cf-b0b08cafaaf5"
      },
      "execution_count": 19,
      "outputs": [
        {
          "output_type": "stream",
          "name": "stdout",
          "text": [
            "1\n",
            "2\n",
            "3\n",
            "4\n",
            "5\n",
            "6\n",
            "7\n",
            "8\n",
            "9\n",
            "10\n"
          ]
        }
      ]
    },
    {
      "cell_type": "code",
      "source": [
        "# Write a python program to find the sum of all even numbers between 1 to 50.\n",
        "for even_number in range(1,51):\n",
        "  if even_number % 2 == 0:\n",
        "    print(even_number)\n",
        "\n",
        "\n"
      ],
      "metadata": {
        "id": "umvNliWAjc0w",
        "colab": {
          "base_uri": "https://localhost:8080/"
        },
        "outputId": "e9594b7b-e0be-4c2b-eaca-2718d2486e5b"
      },
      "execution_count": 24,
      "outputs": [
        {
          "output_type": "stream",
          "name": "stdout",
          "text": [
            "2\n",
            "4\n",
            "6\n",
            "8\n",
            "10\n",
            "12\n",
            "14\n",
            "16\n",
            "18\n",
            "20\n",
            "22\n",
            "24\n",
            "26\n",
            "28\n",
            "30\n",
            "32\n",
            "34\n",
            "36\n",
            "38\n",
            "40\n",
            "42\n",
            "44\n",
            "46\n",
            "48\n",
            "50\n"
          ]
        }
      ]
    },
    {
      "cell_type": "code",
      "source": [
        "# Write a program to reverse a string using a while loop.\n",
        "s = \"Radheshyam\"\n",
        "rev=\"\"\n",
        "for ch in s:\n",
        "  rev = ch + rev\n",
        "  print(rev)"
      ],
      "metadata": {
        "colab": {
          "base_uri": "https://localhost:8080/"
        },
        "id": "s18rQDbasWMT",
        "outputId": "e4794de1-f254-4c7c-ac02-4dc22458ec26"
      },
      "execution_count": 40,
      "outputs": [
        {
          "output_type": "stream",
          "name": "stdout",
          "text": [
            "R\n",
            "aR\n",
            "daR\n",
            "hdaR\n",
            "ehdaR\n",
            "sehdaR\n",
            "hsehdaR\n",
            "yhsehdaR\n",
            "ayhsehdaR\n",
            "mayhsehdaR\n"
          ]
        }
      ]
    },
    {
      "source": [
        "# Write a python program to calculate the factorial of a number provided by the user using a while loop.\n",
        "\n",
        "# Get input from the user\n",
        "num = int(input(\"Enter a number: \"))\n",
        "\n",
        "# Initialize variables\n",
        "factorial = 1\n",
        "i = 1\n",
        "\n",
        "# Calculate factorial using a while loop\n",
        "while i <= num:\n",
        "    factorial *= i  # Multiply factorial by the current number\n",
        "    i += 1  # Increment the counter\n",
        "\n",
        "# Print the result\n",
        "print(\"The factorial of\", num, \"is\", factorial)"
      ],
      "cell_type": "code",
      "metadata": {
        "colab": {
          "base_uri": "https://localhost:8080/"
        },
        "id": "48uhOlU88KDu",
        "outputId": "dbc44542-cc12-4c37-8edb-a3b50e7a507f"
      },
      "execution_count": 57,
      "outputs": [
        {
          "output_type": "stream",
          "name": "stdout",
          "text": [
            "Enter a number: 3\n",
            "The factorial of 3 is 6\n"
          ]
        }
      ]
    },
    {
      "cell_type": "code",
      "source": [],
      "metadata": {
        "id": "pVGBSX2V5PvB"
      },
      "execution_count": null,
      "outputs": []
    }
  ]
}